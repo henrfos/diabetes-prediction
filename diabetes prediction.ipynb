{
 "cells": [
  {
   "cell_type": "code",
   "execution_count": 92,
   "id": "1ec2c4cb",
   "metadata": {},
   "outputs": [],
   "source": [
    "import numpy as np\n",
    "from numpy import nan\n",
    "import pandas as pd\n",
    "from pandas import DataFrame\n",
    "from sklearn import linear_model\n",
    "from sklearn.preprocessing import MinMaxScaler\n",
    "from sklearn.metrics import accuracy_score\n",
    "names = [\"graviditeter\", \"glukose\", \"blodtrykk\", \"hud\", \"insulin\", \"bmi\", \"diabetes-arv\", \"alder\", \"diabetes-diagnose\"]\n"
   ]
  },
  {
   "cell_type": "code",
   "execution_count": 66,
   "id": "e7969e75",
   "metadata": {},
   "outputs": [
    {
     "name": "stdout",
     "output_type": "stream",
     "text": [
      "(768, 9)\n"
     ]
    }
   ],
   "source": [
    "# Reading dataset and looking at shape of dataset\n",
    "df = pd.read_csv(\"diabetes.csv\", names=names)\n",
    "\n",
    "print(df.shape)"
   ]
  },
  {
   "cell_type": "code",
   "execution_count": 67,
   "id": "bcb5b6c9",
   "metadata": {},
   "outputs": [
    {
     "data": {
      "text/html": [
       "<div>\n",
       "<style scoped>\n",
       "    .dataframe tbody tr th:only-of-type {\n",
       "        vertical-align: middle;\n",
       "    }\n",
       "\n",
       "    .dataframe tbody tr th {\n",
       "        vertical-align: top;\n",
       "    }\n",
       "\n",
       "    .dataframe thead th {\n",
       "        text-align: right;\n",
       "    }\n",
       "</style>\n",
       "<table border=\"1\" class=\"dataframe\">\n",
       "  <thead>\n",
       "    <tr style=\"text-align: right;\">\n",
       "      <th></th>\n",
       "      <th>graviditeter</th>\n",
       "      <th>glukose</th>\n",
       "      <th>blodtrykk</th>\n",
       "      <th>hud</th>\n",
       "      <th>insulin</th>\n",
       "      <th>bmi</th>\n",
       "      <th>diabetes-arv</th>\n",
       "      <th>alder</th>\n",
       "      <th>diabetes-diagnose</th>\n",
       "    </tr>\n",
       "  </thead>\n",
       "  <tbody>\n",
       "    <tr>\n",
       "      <th>0</th>\n",
       "      <td>6</td>\n",
       "      <td>148</td>\n",
       "      <td>72</td>\n",
       "      <td>35</td>\n",
       "      <td>0</td>\n",
       "      <td>33.6</td>\n",
       "      <td>0.627</td>\n",
       "      <td>50</td>\n",
       "      <td>1</td>\n",
       "    </tr>\n",
       "    <tr>\n",
       "      <th>1</th>\n",
       "      <td>1</td>\n",
       "      <td>85</td>\n",
       "      <td>66</td>\n",
       "      <td>29</td>\n",
       "      <td>0</td>\n",
       "      <td>26.6</td>\n",
       "      <td>0.351</td>\n",
       "      <td>31</td>\n",
       "      <td>0</td>\n",
       "    </tr>\n",
       "    <tr>\n",
       "      <th>2</th>\n",
       "      <td>8</td>\n",
       "      <td>183</td>\n",
       "      <td>64</td>\n",
       "      <td>0</td>\n",
       "      <td>0</td>\n",
       "      <td>23.3</td>\n",
       "      <td>0.672</td>\n",
       "      <td>32</td>\n",
       "      <td>1</td>\n",
       "    </tr>\n",
       "    <tr>\n",
       "      <th>3</th>\n",
       "      <td>1</td>\n",
       "      <td>89</td>\n",
       "      <td>66</td>\n",
       "      <td>23</td>\n",
       "      <td>94</td>\n",
       "      <td>28.1</td>\n",
       "      <td>0.167</td>\n",
       "      <td>21</td>\n",
       "      <td>0</td>\n",
       "    </tr>\n",
       "    <tr>\n",
       "      <th>4</th>\n",
       "      <td>0</td>\n",
       "      <td>137</td>\n",
       "      <td>40</td>\n",
       "      <td>35</td>\n",
       "      <td>168</td>\n",
       "      <td>43.1</td>\n",
       "      <td>2.288</td>\n",
       "      <td>33</td>\n",
       "      <td>1</td>\n",
       "    </tr>\n",
       "  </tbody>\n",
       "</table>\n",
       "</div>"
      ],
      "text/plain": [
       "   graviditeter  glukose  blodtrykk  hud  insulin   bmi  diabetes-arv  alder  \\\n",
       "0             6      148         72   35        0  33.6         0.627     50   \n",
       "1             1       85         66   29        0  26.6         0.351     31   \n",
       "2             8      183         64    0        0  23.3         0.672     32   \n",
       "3             1       89         66   23       94  28.1         0.167     21   \n",
       "4             0      137         40   35      168  43.1         2.288     33   \n",
       "\n",
       "   diabetes-diagnose  \n",
       "0                  1  \n",
       "1                  0  \n",
       "2                  1  \n",
       "3                  0  \n",
       "4                  1  "
      ]
     },
     "execution_count": 67,
     "metadata": {},
     "output_type": "execute_result"
    }
   ],
   "source": [
    "df.head()"
   ]
  },
  {
   "cell_type": "code",
   "execution_count": 68,
   "id": "970449ff",
   "metadata": {},
   "outputs": [
    {
     "name": "stdout",
     "output_type": "stream",
     "text": [
      "glukose           5\n",
      "blodtrykk        35\n",
      "hud             227\n",
      "insulin         374\n",
      "bmi              11\n",
      "diabetes-arv      0\n",
      "alder             0\n",
      "dtype: int64\n"
     ]
    }
   ],
   "source": [
    "num_missing = (df[[\"glukose\",\"blodtrykk\",\"hud\",\"insulin\",\"bmi\", \"diabetes-arv\", \"alder\"]] == 0).sum()\n",
    "print(num_missing)"
   ]
  },
  {
   "cell_type": "code",
   "execution_count": 69,
   "id": "eb0c6f4e",
   "metadata": {},
   "outputs": [],
   "source": [
    "df[[\"glukose\",\"blodtrykk\",\"hud\",\"insulin\",\"bmi\", \"diabetes-arv\", \"alder\"]] = df[[\"glukose\",\"blodtrykk\",\"hud\",\"insulin\",\"bmi\", \"diabetes-arv\", \"alder\"]].replace(0, nan)"
   ]
  },
  {
   "cell_type": "code",
   "execution_count": 70,
   "id": "181b1ed0",
   "metadata": {},
   "outputs": [
    {
     "name": "stdout",
     "output_type": "stream",
     "text": [
      "(392, 9)\n"
     ]
    }
   ],
   "source": [
    "df.dropna(inplace=True)\n",
    "print(df.shape)"
   ]
  },
  {
   "cell_type": "code",
   "execution_count": 71,
   "id": "7fe33b9e",
   "metadata": {},
   "outputs": [
    {
     "data": {
      "text/html": [
       "<div>\n",
       "<style scoped>\n",
       "    .dataframe tbody tr th:only-of-type {\n",
       "        vertical-align: middle;\n",
       "    }\n",
       "\n",
       "    .dataframe tbody tr th {\n",
       "        vertical-align: top;\n",
       "    }\n",
       "\n",
       "    .dataframe thead th {\n",
       "        text-align: right;\n",
       "    }\n",
       "</style>\n",
       "<table border=\"1\" class=\"dataframe\">\n",
       "  <thead>\n",
       "    <tr style=\"text-align: right;\">\n",
       "      <th></th>\n",
       "      <th>graviditeter</th>\n",
       "      <th>glukose</th>\n",
       "      <th>blodtrykk</th>\n",
       "      <th>hud</th>\n",
       "      <th>insulin</th>\n",
       "      <th>bmi</th>\n",
       "      <th>diabetes-arv</th>\n",
       "      <th>alder</th>\n",
       "      <th>diabetes-diagnose</th>\n",
       "    </tr>\n",
       "  </thead>\n",
       "  <tbody>\n",
       "    <tr>\n",
       "      <th>3</th>\n",
       "      <td>1</td>\n",
       "      <td>89.0</td>\n",
       "      <td>66.0</td>\n",
       "      <td>23.0</td>\n",
       "      <td>94.0</td>\n",
       "      <td>28.1</td>\n",
       "      <td>0.167</td>\n",
       "      <td>21</td>\n",
       "      <td>0</td>\n",
       "    </tr>\n",
       "    <tr>\n",
       "      <th>4</th>\n",
       "      <td>0</td>\n",
       "      <td>137.0</td>\n",
       "      <td>40.0</td>\n",
       "      <td>35.0</td>\n",
       "      <td>168.0</td>\n",
       "      <td>43.1</td>\n",
       "      <td>2.288</td>\n",
       "      <td>33</td>\n",
       "      <td>1</td>\n",
       "    </tr>\n",
       "    <tr>\n",
       "      <th>6</th>\n",
       "      <td>3</td>\n",
       "      <td>78.0</td>\n",
       "      <td>50.0</td>\n",
       "      <td>32.0</td>\n",
       "      <td>88.0</td>\n",
       "      <td>31.0</td>\n",
       "      <td>0.248</td>\n",
       "      <td>26</td>\n",
       "      <td>1</td>\n",
       "    </tr>\n",
       "    <tr>\n",
       "      <th>8</th>\n",
       "      <td>2</td>\n",
       "      <td>197.0</td>\n",
       "      <td>70.0</td>\n",
       "      <td>45.0</td>\n",
       "      <td>543.0</td>\n",
       "      <td>30.5</td>\n",
       "      <td>0.158</td>\n",
       "      <td>53</td>\n",
       "      <td>1</td>\n",
       "    </tr>\n",
       "    <tr>\n",
       "      <th>13</th>\n",
       "      <td>1</td>\n",
       "      <td>189.0</td>\n",
       "      <td>60.0</td>\n",
       "      <td>23.0</td>\n",
       "      <td>846.0</td>\n",
       "      <td>30.1</td>\n",
       "      <td>0.398</td>\n",
       "      <td>59</td>\n",
       "      <td>1</td>\n",
       "    </tr>\n",
       "  </tbody>\n",
       "</table>\n",
       "</div>"
      ],
      "text/plain": [
       "    graviditeter  glukose  blodtrykk   hud  insulin   bmi  diabetes-arv  \\\n",
       "3              1     89.0       66.0  23.0     94.0  28.1         0.167   \n",
       "4              0    137.0       40.0  35.0    168.0  43.1         2.288   \n",
       "6              3     78.0       50.0  32.0     88.0  31.0         0.248   \n",
       "8              2    197.0       70.0  45.0    543.0  30.5         0.158   \n",
       "13             1    189.0       60.0  23.0    846.0  30.1         0.398   \n",
       "\n",
       "    alder  diabetes-diagnose  \n",
       "3      21                  0  \n",
       "4      33                  1  \n",
       "6      26                  1  \n",
       "8      53                  1  \n",
       "13     59                  1  "
      ]
     },
     "execution_count": 71,
     "metadata": {},
     "output_type": "execute_result"
    }
   ],
   "source": [
    "df.head()"
   ]
  },
  {
   "cell_type": "code",
   "execution_count": 72,
   "id": "e60ecef0",
   "metadata": {},
   "outputs": [],
   "source": [
    "dataset = DataFrame(df)"
   ]
  },
  {
   "cell_type": "code",
   "execution_count": 73,
   "id": "c1fefd47",
   "metadata": {},
   "outputs": [
    {
     "name": "stdout",
     "output_type": "stream",
     "text": [
      "     graviditeter  glukose  blodtrykk   hud  insulin   bmi  diabetes-arv  \\\n",
      "3               1     89.0       66.0  23.0     94.0  28.1         0.167   \n",
      "4               0    137.0       40.0  35.0    168.0  43.1         2.288   \n",
      "6               3     78.0       50.0  32.0     88.0  31.0         0.248   \n",
      "8               2    197.0       70.0  45.0    543.0  30.5         0.158   \n",
      "13              1    189.0       60.0  23.0    846.0  30.1         0.398   \n",
      "..            ...      ...        ...   ...      ...   ...           ...   \n",
      "753             0    181.0       88.0  44.0    510.0  43.3         0.222   \n",
      "755             1    128.0       88.0  39.0    110.0  36.5         1.057   \n",
      "760             2     88.0       58.0  26.0     16.0  28.4         0.766   \n",
      "763            10    101.0       76.0  48.0    180.0  32.9         0.171   \n",
      "765             5    121.0       72.0  23.0    112.0  26.2         0.245   \n",
      "\n",
      "     alder  diabetes-diagnose  \n",
      "3       21                  0  \n",
      "4       33                  1  \n",
      "6       26                  1  \n",
      "8       53                  1  \n",
      "13      59                  1  \n",
      "..     ...                ...  \n",
      "753     26                  1  \n",
      "755     37                  1  \n",
      "760     22                  0  \n",
      "763     63                  0  \n",
      "765     30                  0  \n",
      "\n",
      "[392 rows x 9 columns]\n"
     ]
    }
   ],
   "source": [
    "print(dataset)"
   ]
  },
  {
   "cell_type": "code",
   "execution_count": 74,
   "id": "7e55009c",
   "metadata": {},
   "outputs": [],
   "source": [
    "y = df[\"diabetes-diagnose\"]\n",
    "x = df.drop(columns = [\"diabetes-diagnose\"])"
   ]
  },
  {
   "cell_type": "code",
   "execution_count": 75,
   "id": "3a220a17",
   "metadata": {},
   "outputs": [],
   "source": [
    "y2 = df[\"diabetes-diagnose\"]\n",
    "x2 = df.drop(columns = [\"diabetes-diagnose\"])"
   ]
  },
  {
   "cell_type": "code",
   "execution_count": 76,
   "id": "1d355df5",
   "metadata": {},
   "outputs": [],
   "source": [
    "scaler = MinMaxScaler()\n",
    "scaler.fit(x)\n",
    "x = scaler.transform(x)"
   ]
  },
  {
   "cell_type": "code",
   "execution_count": 77,
   "id": "9f0b439a",
   "metadata": {},
   "outputs": [
    {
     "data": {
      "text/plain": [
       "((392, 8), (392,))"
      ]
     },
     "execution_count": 77,
     "metadata": {},
     "output_type": "execute_result"
    }
   ],
   "source": [
    "x.shape , y.shape"
   ]
  },
  {
   "cell_type": "code",
   "execution_count": 78,
   "id": "a4be1bc5",
   "metadata": {},
   "outputs": [
    {
     "name": "stdout",
     "output_type": "stream",
     "text": [
      "[[0.05882353 0.52816901 0.46511628 ... 0.11247444 0.13019272 0.        ]\n",
      " [0.17647059 0.17605634 0.72093023 ... 0.19018405 0.09464668 0.01666667]\n",
      " [0.11764706 0.99295775 0.53488372 ... 0.25153374 0.03126338 0.53333333]\n",
      " ...\n",
      " [0.52941176 0.70422535 0.72093023 ... 0.32924335 0.47280514 0.35      ]\n",
      " [0.17647059 0.22535211 0.39534884 ... 0.13496933 0.07794433 0.01666667]\n",
      " [0.         0.76760563 0.60465116 ... 0.60736196 0.0745182  0.08333333]]\n",
      "392    0\n",
      "368    0\n",
      "8      1\n",
      "348    0\n",
      "507    0\n",
      "      ..\n",
      "575    0\n",
      "52     0\n",
      "152    1\n",
      "32     0\n",
      "335    0\n",
      "Name: diabetes-diagnose, Length: 313, dtype: int64\n"
     ]
    }
   ],
   "source": [
    "from sklearn.model_selection import train_test_split\n",
    "x_train, x_test, y_train, y_test = train_test_split(x, y, train_size = 0.8, test_size = 0.2, random_state = 2)\n",
    "print(x_train)\n",
    "print(y_train)"
   ]
  },
  {
   "cell_type": "markdown",
   "id": "67f57f48",
   "metadata": {},
   "source": [
    "# KNN Regression"
   ]
  },
  {
   "cell_type": "code",
   "execution_count": 79,
   "id": "5f1e0cf4",
   "metadata": {},
   "outputs": [
    {
     "data": {
      "text/plain": [
       "KNeighborsRegressor()"
      ]
     },
     "execution_count": 79,
     "metadata": {},
     "output_type": "execute_result"
    }
   ],
   "source": [
    "from sklearn.neighbors import KNeighborsRegressor\n",
    "regressor = KNeighborsRegressor(n_neighbors=5)\n",
    "regressor.fit(x_train, y_train)"
   ]
  },
  {
   "cell_type": "code",
   "execution_count": 80,
   "id": "3c26381c",
   "metadata": {},
   "outputs": [],
   "source": [
    "y_pred = regressor.predict(x_test)"
   ]
  },
  {
   "cell_type": "code",
   "execution_count": 81,
   "id": "e0772302",
   "metadata": {},
   "outputs": [
    {
     "name": "stdout",
     "output_type": "stream",
     "text": [
      "mae: 0.2683544303797468\n",
      "mse: 0.15088607594936707\n",
      "rmse: 0.3884405693917244\n"
     ]
    }
   ],
   "source": [
    "from sklearn.metrics import mean_absolute_error, mean_squared_error\n",
    "\n",
    "mae = mean_absolute_error(y_test, y_pred)\n",
    "mse = mean_squared_error(y_test, y_pred)\n",
    "rmse = mean_squared_error(y_test, y_pred, squared=False)\n",
    "\n",
    "print(f'mae: {mae}')\n",
    "print(f'mse: {mse}')\n",
    "print(f'rmse: {rmse}')"
   ]
  },
  {
   "cell_type": "code",
   "execution_count": 93,
   "id": "497edb88",
   "metadata": {},
   "outputs": [
    {
     "data": {
      "text/plain": [
       "0.7088607594936709"
      ]
     },
     "execution_count": 93,
     "metadata": {},
     "output_type": "execute_result"
    }
   ],
   "source": [
    "accuracy_score(y_test, y_pred)"
   ]
  },
  {
   "cell_type": "markdown",
   "id": "2b8b740d",
   "metadata": {},
   "source": [
    "# Naive Bayes"
   ]
  },
  {
   "cell_type": "code",
   "execution_count": 83,
   "id": "c40e36e1",
   "metadata": {},
   "outputs": [
    {
     "data": {
      "text/html": [
       "<div>\n",
       "<style scoped>\n",
       "    .dataframe tbody tr th:only-of-type {\n",
       "        vertical-align: middle;\n",
       "    }\n",
       "\n",
       "    .dataframe tbody tr th {\n",
       "        vertical-align: top;\n",
       "    }\n",
       "\n",
       "    .dataframe thead tr th {\n",
       "        text-align: left;\n",
       "    }\n",
       "</style>\n",
       "<table border=\"1\" class=\"dataframe\">\n",
       "  <thead>\n",
       "    <tr>\n",
       "      <th></th>\n",
       "      <th>graviditeter</th>\n",
       "      <th>glukose</th>\n",
       "      <th>blodtrykk</th>\n",
       "      <th>hud</th>\n",
       "      <th>insulin</th>\n",
       "      <th>bmi</th>\n",
       "      <th>diabetes-arv</th>\n",
       "      <th>alder</th>\n",
       "    </tr>\n",
       "    <tr>\n",
       "      <th></th>\n",
       "      <th>transform_digit</th>\n",
       "      <th>transform_digit</th>\n",
       "      <th>transform_digit</th>\n",
       "      <th>transform_digit</th>\n",
       "      <th>transform_digit</th>\n",
       "      <th>transform_digit</th>\n",
       "      <th>transform_digit</th>\n",
       "      <th>transform_digit</th>\n",
       "    </tr>\n",
       "  </thead>\n",
       "  <tbody>\n",
       "    <tr>\n",
       "      <th>120</th>\n",
       "      <td>0</td>\n",
       "      <td>3</td>\n",
       "      <td>3</td>\n",
       "      <td>3</td>\n",
       "      <td>3</td>\n",
       "      <td>3</td>\n",
       "      <td>3</td>\n",
       "      <td>3</td>\n",
       "    </tr>\n",
       "    <tr>\n",
       "      <th>147</th>\n",
       "      <td>3</td>\n",
       "      <td>3</td>\n",
       "      <td>3</td>\n",
       "      <td>3</td>\n",
       "      <td>3</td>\n",
       "      <td>3</td>\n",
       "      <td>3</td>\n",
       "      <td>3</td>\n",
       "    </tr>\n",
       "    <tr>\n",
       "      <th>609</th>\n",
       "      <td>3</td>\n",
       "      <td>3</td>\n",
       "      <td>3</td>\n",
       "      <td>3</td>\n",
       "      <td>3</td>\n",
       "      <td>3</td>\n",
       "      <td>0</td>\n",
       "      <td>3</td>\n",
       "    </tr>\n",
       "    <tr>\n",
       "      <th>360</th>\n",
       "      <td>3</td>\n",
       "      <td>3</td>\n",
       "      <td>3</td>\n",
       "      <td>3</td>\n",
       "      <td>3</td>\n",
       "      <td>3</td>\n",
       "      <td>2</td>\n",
       "      <td>3</td>\n",
       "    </tr>\n",
       "    <tr>\n",
       "      <th>597</th>\n",
       "      <td>3</td>\n",
       "      <td>3</td>\n",
       "      <td>3</td>\n",
       "      <td>3</td>\n",
       "      <td>3</td>\n",
       "      <td>3</td>\n",
       "      <td>2</td>\n",
       "      <td>3</td>\n",
       "    </tr>\n",
       "    <tr>\n",
       "      <th>...</th>\n",
       "      <td>...</td>\n",
       "      <td>...</td>\n",
       "      <td>...</td>\n",
       "      <td>...</td>\n",
       "      <td>...</td>\n",
       "      <td>...</td>\n",
       "      <td>...</td>\n",
       "      <td>...</td>\n",
       "    </tr>\n",
       "    <tr>\n",
       "      <th>369</th>\n",
       "      <td>3</td>\n",
       "      <td>3</td>\n",
       "      <td>3</td>\n",
       "      <td>3</td>\n",
       "      <td>3</td>\n",
       "      <td>3</td>\n",
       "      <td>0</td>\n",
       "      <td>3</td>\n",
       "    </tr>\n",
       "    <tr>\n",
       "      <th>591</th>\n",
       "      <td>3</td>\n",
       "      <td>3</td>\n",
       "      <td>3</td>\n",
       "      <td>3</td>\n",
       "      <td>3</td>\n",
       "      <td>3</td>\n",
       "      <td>0</td>\n",
       "      <td>3</td>\n",
       "    </tr>\n",
       "    <tr>\n",
       "      <th>136</th>\n",
       "      <td>0</td>\n",
       "      <td>3</td>\n",
       "      <td>3</td>\n",
       "      <td>3</td>\n",
       "      <td>3</td>\n",
       "      <td>3</td>\n",
       "      <td>2</td>\n",
       "      <td>3</td>\n",
       "    </tr>\n",
       "    <tr>\n",
       "      <th>704</th>\n",
       "      <td>3</td>\n",
       "      <td>3</td>\n",
       "      <td>3</td>\n",
       "      <td>3</td>\n",
       "      <td>3</td>\n",
       "      <td>3</td>\n",
       "      <td>0</td>\n",
       "      <td>3</td>\n",
       "    </tr>\n",
       "    <tr>\n",
       "      <th>718</th>\n",
       "      <td>3</td>\n",
       "      <td>3</td>\n",
       "      <td>3</td>\n",
       "      <td>3</td>\n",
       "      <td>3</td>\n",
       "      <td>3</td>\n",
       "      <td>1</td>\n",
       "      <td>3</td>\n",
       "    </tr>\n",
       "  </tbody>\n",
       "</table>\n",
       "<p>79 rows × 8 columns</p>\n",
       "</div>"
      ],
      "text/plain": [
       "       graviditeter         glukose       blodtrykk             hud  \\\n",
       "    transform_digit transform_digit transform_digit transform_digit   \n",
       "120               0               3               3               3   \n",
       "147               3               3               3               3   \n",
       "609               3               3               3               3   \n",
       "360               3               3               3               3   \n",
       "597               3               3               3               3   \n",
       "..              ...             ...             ...             ...   \n",
       "369               3               3               3               3   \n",
       "591               3               3               3               3   \n",
       "136               0               3               3               3   \n",
       "704               3               3               3               3   \n",
       "718               3               3               3               3   \n",
       "\n",
       "            insulin             bmi    diabetes-arv           alder  \n",
       "    transform_digit transform_digit transform_digit transform_digit  \n",
       "120               3               3               3               3  \n",
       "147               3               3               3               3  \n",
       "609               3               3               0               3  \n",
       "360               3               3               2               3  \n",
       "597               3               3               2               3  \n",
       "..              ...             ...             ...             ...  \n",
       "369               3               3               0               3  \n",
       "591               3               3               0               3  \n",
       "136               3               3               2               3  \n",
       "704               3               3               0               3  \n",
       "718               3               3               1               3  \n",
       "\n",
       "[79 rows x 8 columns]"
      ]
     },
     "execution_count": 83,
     "metadata": {},
     "output_type": "execute_result"
    }
   ],
   "source": [
    "def transform_digit(x):\n",
    "    if x <= 0.25:\n",
    "        return 0\n",
    "    elif x <= 0.50:\n",
    "        return 1\n",
    "    elif x <= 0.75:\n",
    "        return 2\n",
    "    else:\n",
    "        return 3\n",
    "x2_train_transformed = x2_train.transform([transform_digit])\n",
    "x2_test_transformed = x2_test.transform([transform_digit])\n",
    "x2_test_transformed"
   ]
  },
  {
   "cell_type": "code",
   "execution_count": 84,
   "id": "c0c5e400",
   "metadata": {},
   "outputs": [],
   "source": [
    "from sklearn.model_selection import train_test_split\n",
    "x2_train, x2_test, y2_train, y2_test = train_test_split(x2, y2, train_size = 0.8, test_size = 0.2, random_state = 2)\n"
   ]
  },
  {
   "cell_type": "code",
   "execution_count": 85,
   "id": "77d472e8",
   "metadata": {},
   "outputs": [
    {
     "name": "stdout",
     "output_type": "stream",
     "text": [
      "0.7088607594936709\n",
      "[[55  0]\n",
      " [23  1]]\n",
      "              precision    recall  f1-score   support\n",
      "\n",
      "           0       0.71      1.00      0.83        55\n",
      "           1       1.00      0.04      0.08        24\n",
      "\n",
      "    accuracy                           0.71        79\n",
      "   macro avg       0.85      0.52      0.45        79\n",
      "weighted avg       0.79      0.71      0.60        79\n",
      "\n"
     ]
    }
   ],
   "source": [
    "from sklearn.naive_bayes import CategoricalNB\n",
    "from sklearn import metrics\n",
    "clf = CategoricalNB(min_categories=4)\n",
    "clf.fit(x2_train_transformed, y_train)\n",
    "y_pred = clf.predict(x2_test_transformed)\n",
    "print(metrics.accuracy_score(y_test, y_pred))\n",
    "print(metrics.confusion_matrix(y_test, y_pred))\n",
    "print(metrics.classification_report(y_test, y_pred))"
   ]
  },
  {
   "cell_type": "code",
   "execution_count": null,
   "id": "65e58b83",
   "metadata": {},
   "outputs": [],
   "source": []
  },
  {
   "cell_type": "markdown",
   "id": "15ce8002",
   "metadata": {},
   "source": [
    "# Logistic Regression"
   ]
  },
  {
   "cell_type": "code",
   "execution_count": 86,
   "id": "22857bba",
   "metadata": {},
   "outputs": [],
   "source": [
    "from sklearn.linear_model import LogisticRegression\n",
    "from sklearn.metrics import classification_report, confusion_matrix\n",
    "\n",
    "model = LogisticRegression(solver='liblinear', random_state=0).fit(x_test, y_test)"
   ]
  },
  {
   "cell_type": "code",
   "execution_count": 87,
   "id": "c9fcb2ca",
   "metadata": {},
   "outputs": [
    {
     "data": {
      "text/plain": [
       "array([[ 0.6306049 ,  1.27000425, -0.13285411,  0.51202067,  0.01254295,\n",
       "         0.13389507,  0.35099756,  0.9717137 ]])"
      ]
     },
     "execution_count": 87,
     "metadata": {},
     "output_type": "execute_result"
    }
   ],
   "source": [
    "model.intercept_\n",
    "model.coef_"
   ]
  },
  {
   "cell_type": "code",
   "execution_count": 88,
   "id": "4c44380e",
   "metadata": {},
   "outputs": [
    {
     "data": {
      "text/plain": [
       "array([0, 0, 0, 0, 0, 0, 0, 0, 0, 0, 0, 0, 1, 0, 0, 0, 0, 0, 0, 0, 0, 0,\n",
       "       0, 1, 0, 0, 1, 0, 0, 1, 0, 0, 0, 0, 0, 0, 0, 0, 0, 0, 0, 1, 0, 0,\n",
       "       0, 0, 0, 0, 0, 0, 0, 0, 0, 0, 0, 0, 0, 0, 0, 0, 0, 0, 0, 0, 0, 0,\n",
       "       0, 0, 0, 1, 0, 0, 0, 0, 0, 0, 0, 0, 0], dtype=int64)"
      ]
     },
     "execution_count": 88,
     "metadata": {},
     "output_type": "execute_result"
    }
   ],
   "source": [
    "model.predict(x_test)"
   ]
  },
  {
   "cell_type": "code",
   "execution_count": 89,
   "id": "f1bb7133",
   "metadata": {},
   "outputs": [
    {
     "data": {
      "text/plain": [
       "0.7215189873417721"
      ]
     },
     "execution_count": 89,
     "metadata": {},
     "output_type": "execute_result"
    }
   ],
   "source": [
    "model.score(x_test, y_test)"
   ]
  },
  {
   "cell_type": "code",
   "execution_count": null,
   "id": "e6100566",
   "metadata": {},
   "outputs": [],
   "source": []
  }
 ],
 "metadata": {
  "kernelspec": {
   "display_name": "Python 3 (ipykernel)",
   "language": "python",
   "name": "python3"
  },
  "language_info": {
   "codemirror_mode": {
    "name": "ipython",
    "version": 3
   },
   "file_extension": ".py",
   "mimetype": "text/x-python",
   "name": "python",
   "nbconvert_exporter": "python",
   "pygments_lexer": "ipython3",
   "version": "3.9.7"
  }
 },
 "nbformat": 4,
 "nbformat_minor": 5
}
